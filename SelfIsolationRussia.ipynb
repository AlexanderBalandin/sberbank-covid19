{
 "cells": [
  {
   "cell_type": "code",
   "execution_count": 1,
   "metadata": {},
   "outputs": [],
   "source": [
    "import requests\n",
    "import pandas as pd\n",
    "\n",
    "URL = \"https://yastat.net/s3/milab/2020/podomam/data/index_data.json\"\n",
    "data = requests.get(URL).json()\n",
    "\n",
    "df = pd.DataFrame([[v['date'], city, v['value']] for city, values in data.items() for v in values])\n",
    "df.columns = ['date', 'city', 'value']\n",
    "df.to_csv('data/self_isolation_rus.csv')\n",
    "\n",
    "df"
   ]
  }
 ],
 "metadata": {
  "kernelspec": {
   "display_name": "Python 3",
   "language": "python",
   "name": "python3"
  },
  "language_info": {
   "codemirror_mode": {
    "name": "ipython",
    "version": 3
   },
   "file_extension": ".py",
   "mimetype": "text/x-python",
   "name": "python",
   "nbconvert_exporter": "python",
   "pygments_lexer": "ipython3",
   "version": "3.7.7"
  }
 },
 "nbformat": 4,
 "nbformat_minor": 4
}
