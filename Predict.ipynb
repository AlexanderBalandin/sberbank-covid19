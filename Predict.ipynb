{
 "cells": [
  {
   "cell_type": "code",
   "execution_count": 1,
   "metadata": {
    "scrolled": true
   },
   "outputs": [
    {
     "name": "stderr",
     "output_type": "stream",
     "text": [
      "/home/tyz910/anaconda3/envs/sberbank-covid19/lib/python3.7/site-packages/tqdm/std.py:666: FutureWarning: The Panel class is removed from pandas. Accessing it from the top-level namespace will also be removed in the next version\n",
      "  from pandas import Panel\n",
      "alchemy not available, to install alchemy, run `pip install alchemy-catalyst`.\n",
      "alchemy not available, to install alchemy, run `pip install alchemy-catalyst`.\n"
     ]
    },
    {
     "data": {
      "text/html": [
       "<div>\n",
       "<style scoped>\n",
       "    .dataframe tbody tr th:only-of-type {\n",
       "        vertical-align: middle;\n",
       "    }\n",
       "\n",
       "    .dataframe tbody tr th {\n",
       "        vertical-align: top;\n",
       "    }\n",
       "\n",
       "    .dataframe thead th {\n",
       "        text-align: right;\n",
       "    }\n",
       "</style>\n",
       "<table border=\"1\" class=\"dataframe\">\n",
       "  <thead>\n",
       "    <tr style=\"text-align: right;\">\n",
       "      <th></th>\n",
       "      <th>date</th>\n",
       "      <th>country</th>\n",
       "      <th>confirmed</th>\n",
       "      <th>deaths</th>\n",
       "    </tr>\n",
       "  </thead>\n",
       "  <tbody>\n",
       "    <tr>\n",
       "      <th>0</th>\n",
       "      <td>2020-01-22</td>\n",
       "      <td>CHN</td>\n",
       "      <td>2.739572</td>\n",
       "      <td>1.255273</td>\n",
       "    </tr>\n",
       "    <tr>\n",
       "      <th>1</th>\n",
       "      <td>2020-01-22</td>\n",
       "      <td>TWN</td>\n",
       "      <td>0.301030</td>\n",
       "      <td>0.000000</td>\n",
       "    </tr>\n",
       "    <tr>\n",
       "      <th>2</th>\n",
       "      <td>2020-01-22</td>\n",
       "      <td>JPN</td>\n",
       "      <td>0.477121</td>\n",
       "      <td>0.000000</td>\n",
       "    </tr>\n",
       "    <tr>\n",
       "      <th>3</th>\n",
       "      <td>2020-01-22</td>\n",
       "      <td>KOR</td>\n",
       "      <td>0.301030</td>\n",
       "      <td>0.000000</td>\n",
       "    </tr>\n",
       "    <tr>\n",
       "      <th>4</th>\n",
       "      <td>2020-01-22</td>\n",
       "      <td>THA</td>\n",
       "      <td>0.477121</td>\n",
       "      <td>0.000000</td>\n",
       "    </tr>\n",
       "  </tbody>\n",
       "</table>\n",
       "</div>"
      ],
      "text/plain": [
       "        date country  confirmed    deaths\n",
       "0 2020-01-22     CHN   2.739572  1.255273\n",
       "1 2020-01-22     TWN   0.301030  0.000000\n",
       "2 2020-01-22     JPN   0.477121  0.000000\n",
       "3 2020-01-22     KOR   0.301030  0.000000\n",
       "4 2020-01-22     THA   0.477121  0.000000"
      ]
     },
     "execution_count": 1,
     "metadata": {},
     "output_type": "execute_result"
    }
   ],
   "source": [
    "import torch\n",
    "import pandas as pd\n",
    "import numpy as np\n",
    "\n",
    "from torch.utils.data import DataLoader\n",
    "from catalyst.dl import SupervisedRunner\n",
    "from util.data import read_data, days_idx\n",
    "from util.model import CovidDataset\n",
    "from util.features import *\n",
    "\n",
    "countries, data = read_data(\n",
    "    countries_path='data/countries.csv',\n",
    "    confirmed_path='data/time_series_covid19_confirmed_global.csv',\n",
    "    deaths_path='data/time_series_covid19_deaths_global.csv',\n",
    ")\n",
    "\n",
    "data['confirmed'] = np.log10(data['confirmed'] + 1)\n",
    "data['deaths'] = np.log10(data['deaths'] + 1)\n",
    "data.head()"
   ]
  },
  {
   "cell_type": "markdown",
   "metadata": {},
   "source": [
    "# Отделяем данные для валидации"
   ]
  },
  {
   "cell_type": "code",
   "execution_count": 2,
   "metadata": {},
   "outputs": [
    {
     "data": {
      "text/plain": [
       "(5274, 845)"
      ]
     },
     "execution_count": 2,
     "metadata": {},
     "output_type": "execute_result"
    }
   ],
   "source": [
    "VALID_DAYS = 5\n",
    "train_idx = days_idx(data, VALID_DAYS, after=False)\n",
    "valid_idx = days_idx(data, VALID_DAYS, after=True)\n",
    "\n",
    "len(train_idx), len(valid_idx)"
   ]
  },
  {
   "cell_type": "markdown",
   "metadata": {},
   "source": [
    "# Генерация фичей"
   ]
  },
  {
   "cell_type": "code",
   "execution_count": 3,
   "metadata": {},
   "outputs": [
    {
     "data": {
      "text/html": [
       "<div>\n",
       "<style scoped>\n",
       "    .dataframe tbody tr th:only-of-type {\n",
       "        vertical-align: middle;\n",
       "    }\n",
       "\n",
       "    .dataframe tbody tr th {\n",
       "        vertical-align: top;\n",
       "    }\n",
       "\n",
       "    .dataframe thead th {\n",
       "        text-align: right;\n",
       "    }\n",
       "</style>\n",
       "<table border=\"1\" class=\"dataframe\">\n",
       "  <thead>\n",
       "    <tr style=\"text-align: right;\">\n",
       "      <th></th>\n",
       "      <th>days_since_start</th>\n",
       "      <th>confirmed_prev_1</th>\n",
       "      <th>confirmed_prev_2</th>\n",
       "      <th>confirmed_prev_3</th>\n",
       "      <th>confirmed_prev_4</th>\n",
       "      <th>confirmed_prev_5</th>\n",
       "      <th>deaths_prev_1</th>\n",
       "      <th>deaths_prev_2</th>\n",
       "      <th>deaths_prev_3</th>\n",
       "      <th>deaths_prev_4</th>\n",
       "      <th>deaths_prev_5</th>\n",
       "    </tr>\n",
       "  </thead>\n",
       "  <tbody>\n",
       "    <tr>\n",
       "      <th>5269</th>\n",
       "      <td>22</td>\n",
       "      <td>2.418301</td>\n",
       "      <td>2.392697</td>\n",
       "      <td>2.348305</td>\n",
       "      <td>2.318063</td>\n",
       "      <td>2.257679</td>\n",
       "      <td>1.176091</td>\n",
       "      <td>1.113943</td>\n",
       "      <td>1.113943</td>\n",
       "      <td>1.079181</td>\n",
       "      <td>1.00000</td>\n",
       "    </tr>\n",
       "    <tr>\n",
       "      <th>5270</th>\n",
       "      <td>18</td>\n",
       "      <td>2.530200</td>\n",
       "      <td>2.492760</td>\n",
       "      <td>2.484300</td>\n",
       "      <td>2.439333</td>\n",
       "      <td>2.378398</td>\n",
       "      <td>0.301030</td>\n",
       "      <td>0.301030</td>\n",
       "      <td>0.301030</td>\n",
       "      <td>0.000000</td>\n",
       "      <td>0.00000</td>\n",
       "    </tr>\n",
       "    <tr>\n",
       "      <th>5271</th>\n",
       "      <td>17</td>\n",
       "      <td>2.238046</td>\n",
       "      <td>2.176091</td>\n",
       "      <td>2.161368</td>\n",
       "      <td>2.021189</td>\n",
       "      <td>1.949390</td>\n",
       "      <td>0.477121</td>\n",
       "      <td>0.477121</td>\n",
       "      <td>0.477121</td>\n",
       "      <td>0.477121</td>\n",
       "      <td>0.30103</td>\n",
       "    </tr>\n",
       "    <tr>\n",
       "      <th>5272</th>\n",
       "      <td>18</td>\n",
       "      <td>2.133539</td>\n",
       "      <td>2.133539</td>\n",
       "      <td>2.079181</td>\n",
       "      <td>2.079181</td>\n",
       "      <td>2.033424</td>\n",
       "      <td>0.602060</td>\n",
       "      <td>0.602060</td>\n",
       "      <td>0.477121</td>\n",
       "      <td>0.477121</td>\n",
       "      <td>0.30103</td>\n",
       "    </tr>\n",
       "    <tr>\n",
       "      <th>5273</th>\n",
       "      <td>14</td>\n",
       "      <td>1.556303</td>\n",
       "      <td>1.556303</td>\n",
       "      <td>1.477121</td>\n",
       "      <td>1.462398</td>\n",
       "      <td>1.361728</td>\n",
       "      <td>0.000000</td>\n",
       "      <td>0.000000</td>\n",
       "      <td>0.000000</td>\n",
       "      <td>0.000000</td>\n",
       "      <td>0.00000</td>\n",
       "    </tr>\n",
       "  </tbody>\n",
       "</table>\n",
       "</div>"
      ],
      "text/plain": [
       "      days_since_start  confirmed_prev_1  confirmed_prev_2  confirmed_prev_3  \\\n",
       "5269                22          2.418301          2.392697          2.348305   \n",
       "5270                18          2.530200          2.492760          2.484300   \n",
       "5271                17          2.238046          2.176091          2.161368   \n",
       "5272                18          2.133539          2.133539          2.079181   \n",
       "5273                14          1.556303          1.556303          1.477121   \n",
       "\n",
       "      confirmed_prev_4  confirmed_prev_5  deaths_prev_1  deaths_prev_2  \\\n",
       "5269          2.318063          2.257679       1.176091       1.113943   \n",
       "5270          2.439333          2.378398       0.301030       0.301030   \n",
       "5271          2.021189          1.949390       0.477121       0.477121   \n",
       "5272          2.079181          2.033424       0.602060       0.602060   \n",
       "5273          1.462398          1.361728       0.000000       0.000000   \n",
       "\n",
       "      deaths_prev_3  deaths_prev_4  deaths_prev_5  \n",
       "5269       1.113943       1.079181        1.00000  \n",
       "5270       0.301030       0.000000        0.00000  \n",
       "5271       0.477121       0.477121        0.30103  \n",
       "5272       0.477121       0.477121        0.30103  \n",
       "5273       0.000000       0.000000        0.00000  "
      ]
     },
     "execution_count": 3,
     "metadata": {},
     "output_type": "execute_result"
    }
   ],
   "source": [
    "def get_y(df):\n",
    "    return df[['confirmed', 'deaths']]\n",
    "\n",
    "def get_X(df):\n",
    "    X = df.copy()\n",
    "\n",
    "    add_days_since_start(X)\n",
    "    add_prev_values(X, \"confirmed\", days=5)\n",
    "    add_prev_values(X, \"deaths\", days=5)\n",
    "\n",
    "    return X.drop(columns=['date', 'country', 'confirmed', 'deaths'])\n",
    "\n",
    "X, y = get_X(data), get_y(data)\n",
    "X_train, y_train = X.loc[train_idx], y.loc[train_idx]\n",
    "X_valid, y_valid = X.loc[valid_idx], y.loc[valid_idx]\n",
    "\n",
    "X_train.tail()"
   ]
  },
  {
   "cell_type": "markdown",
   "metadata": {},
   "source": [
    "# Обучение модели с валидацией"
   ]
  },
  {
   "cell_type": "code",
   "execution_count": 4,
   "metadata": {},
   "outputs": [],
   "source": [
    "LOG_DIR = \"./logs\"\n",
    "NUM_EPOCHS = 200\n",
    "BATCH_SIZE = 2048\n",
    "LEARNING_RATE = 0.1\n",
    "\n",
    "NUM_FEATURES = len(X_train.columns)\n",
    "NUM_TARGETS = len(y_train.columns)\n",
    "\n",
    "\n",
    "class CovidModel(torch.nn.Module):\n",
    "    def __init__(self):\n",
    "        super(CovidModel, self).__init__()\n",
    "        self.linear = torch.nn.Linear(NUM_FEATURES, NUM_TARGETS)\n",
    "\n",
    "    def forward(self, X):\n",
    "        y = self.linear(X)        \n",
    "\n",
    "        return y\n",
    "\n",
    "\n",
    "model=CovidModel()\n",
    "criterion = torch.nn.MSELoss()\n",
    "optimizer = torch.optim.Adam(model.parameters(), lr=LEARNING_RATE)\n",
    "\n",
    "runner = SupervisedRunner()\n",
    "runner.train(\n",
    "    model=model,\n",
    "    criterion=criterion,\n",
    "    optimizer=optimizer,\n",
    "    loaders={\n",
    "        \"train\": DataLoader(CovidDataset(X_train, y_train), batch_size=BATCH_SIZE, shuffle=True),\n",
    "        \"valid\": DataLoader(CovidDataset(X_valid, y_valid), batch_size=BATCH_SIZE, shuffle=False),\n",
    "    },\n",
    "    logdir=LOG_DIR,\n",
    "    num_epochs=NUM_EPOCHS,\n",
    ")"
   ]
  },
  {
   "cell_type": "markdown",
   "metadata": {},
   "source": [
    "# Визуализация"
   ]
  },
  {
   "cell_type": "code",
   "execution_count": 5,
   "metadata": {},
   "outputs": [
    {
     "data": {
      "text/html": [
       "<div>\n",
       "<style scoped>\n",
       "    .dataframe tbody tr th:only-of-type {\n",
       "        vertical-align: middle;\n",
       "    }\n",
       "\n",
       "    .dataframe tbody tr th {\n",
       "        vertical-align: top;\n",
       "    }\n",
       "\n",
       "    .dataframe thead th {\n",
       "        text-align: right;\n",
       "    }\n",
       "</style>\n",
       "<table border=\"1\" class=\"dataframe\">\n",
       "  <thead>\n",
       "    <tr style=\"text-align: right;\">\n",
       "      <th></th>\n",
       "      <th>date</th>\n",
       "      <th>country</th>\n",
       "      <th>confirmed</th>\n",
       "      <th>deaths</th>\n",
       "      <th>prediction_confirmed</th>\n",
       "      <th>prediction_deaths</th>\n",
       "    </tr>\n",
       "  </thead>\n",
       "  <tbody>\n",
       "    <tr>\n",
       "      <th>0</th>\n",
       "      <td>2020-01-22</td>\n",
       "      <td>CHN</td>\n",
       "      <td>2.739572</td>\n",
       "      <td>1.255273</td>\n",
       "      <td>NaN</td>\n",
       "      <td>NaN</td>\n",
       "    </tr>\n",
       "    <tr>\n",
       "      <th>1</th>\n",
       "      <td>2020-01-22</td>\n",
       "      <td>TWN</td>\n",
       "      <td>0.301030</td>\n",
       "      <td>0.000000</td>\n",
       "      <td>NaN</td>\n",
       "      <td>NaN</td>\n",
       "    </tr>\n",
       "    <tr>\n",
       "      <th>2</th>\n",
       "      <td>2020-01-22</td>\n",
       "      <td>JPN</td>\n",
       "      <td>0.477121</td>\n",
       "      <td>0.000000</td>\n",
       "      <td>NaN</td>\n",
       "      <td>NaN</td>\n",
       "    </tr>\n",
       "    <tr>\n",
       "      <th>3</th>\n",
       "      <td>2020-01-22</td>\n",
       "      <td>KOR</td>\n",
       "      <td>0.301030</td>\n",
       "      <td>0.000000</td>\n",
       "      <td>NaN</td>\n",
       "      <td>NaN</td>\n",
       "    </tr>\n",
       "    <tr>\n",
       "      <th>4</th>\n",
       "      <td>2020-01-22</td>\n",
       "      <td>THA</td>\n",
       "      <td>0.477121</td>\n",
       "      <td>0.000000</td>\n",
       "      <td>NaN</td>\n",
       "      <td>NaN</td>\n",
       "    </tr>\n",
       "    <tr>\n",
       "      <th>...</th>\n",
       "      <td>...</td>\n",
       "      <td>...</td>\n",
       "      <td>...</td>\n",
       "      <td>...</td>\n",
       "      <td>...</td>\n",
       "      <td>...</td>\n",
       "    </tr>\n",
       "    <tr>\n",
       "      <th>6114</th>\n",
       "      <td>2020-04-06</td>\n",
       "      <td>BFA</td>\n",
       "      <td>2.562293</td>\n",
       "      <td>1.278754</td>\n",
       "      <td>2.587128</td>\n",
       "      <td>1.296469</td>\n",
       "    </tr>\n",
       "    <tr>\n",
       "      <th>6115</th>\n",
       "      <td>2020-04-06</td>\n",
       "      <td>URY</td>\n",
       "      <td>2.609594</td>\n",
       "      <td>0.845098</td>\n",
       "      <td>2.672917</td>\n",
       "      <td>0.873681</td>\n",
       "    </tr>\n",
       "    <tr>\n",
       "      <th>6116</th>\n",
       "      <td>2020-04-06</td>\n",
       "      <td>UZB</td>\n",
       "      <td>2.660865</td>\n",
       "      <td>0.477121</td>\n",
       "      <td>2.554250</td>\n",
       "      <td>0.532327</td>\n",
       "    </tr>\n",
       "    <tr>\n",
       "      <th>6117</th>\n",
       "      <td>2020-04-06</td>\n",
       "      <td>VEN</td>\n",
       "      <td>2.220108</td>\n",
       "      <td>0.903090</td>\n",
       "      <td>2.281080</td>\n",
       "      <td>0.989377</td>\n",
       "    </tr>\n",
       "    <tr>\n",
       "      <th>6118</th>\n",
       "      <td>2020-04-06</td>\n",
       "      <td>ZMB</td>\n",
       "      <td>1.602060</td>\n",
       "      <td>0.301030</td>\n",
       "      <td>1.688251</td>\n",
       "      <td>0.379967</td>\n",
       "    </tr>\n",
       "  </tbody>\n",
       "</table>\n",
       "<p>6119 rows × 6 columns</p>\n",
       "</div>"
      ],
      "text/plain": [
       "           date country  confirmed    deaths  prediction_confirmed  \\\n",
       "0    2020-01-22     CHN   2.739572  1.255273                   NaN   \n",
       "1    2020-01-22     TWN   0.301030  0.000000                   NaN   \n",
       "2    2020-01-22     JPN   0.477121  0.000000                   NaN   \n",
       "3    2020-01-22     KOR   0.301030  0.000000                   NaN   \n",
       "4    2020-01-22     THA   0.477121  0.000000                   NaN   \n",
       "...         ...     ...        ...       ...                   ...   \n",
       "6114 2020-04-06     BFA   2.562293  1.278754              2.587128   \n",
       "6115 2020-04-06     URY   2.609594  0.845098              2.672917   \n",
       "6116 2020-04-06     UZB   2.660865  0.477121              2.554250   \n",
       "6117 2020-04-06     VEN   2.220108  0.903090              2.281080   \n",
       "6118 2020-04-06     ZMB   1.602060  0.301030              1.688251   \n",
       "\n",
       "      prediction_deaths  \n",
       "0                   NaN  \n",
       "1                   NaN  \n",
       "2                   NaN  \n",
       "3                   NaN  \n",
       "4                   NaN  \n",
       "...                 ...  \n",
       "6114           1.296469  \n",
       "6115           0.873681  \n",
       "6116           0.532327  \n",
       "6117           0.989377  \n",
       "6118           0.379967  \n",
       "\n",
       "[6119 rows x 6 columns]"
      ]
     },
     "execution_count": 5,
     "metadata": {},
     "output_type": "execute_result"
    }
   ],
   "source": [
    "def plot_preds(data_pred, country, column='confirmed', num_days=30):  \n",
    "    data_country = data_pred[data_pred['country'] == country].copy()\n",
    "\n",
    "    val_columns = ['confirmed', 'deaths', 'prediction_confirmed', 'prediction_deaths']\n",
    "    data_country[val_columns] = 10 ** data_country[val_columns] - 1\n",
    "    \n",
    "    return data_country.reset_index().tail(num_days)[[column, 'prediction_' + column]].plot()\n",
    "\n",
    "\n",
    "predictions = runner.predict_loader(\n",
    "    model,\n",
    "    DataLoader(CovidDataset(X_valid, y_valid), batch_size=BATCH_SIZE, shuffle=False),\n",
    ")\n",
    "\n",
    "data_pred = data.join(\n",
    "    pd.DataFrame(predictions, columns=['prediction_confirmed', 'prediction_deaths'], index=valid_idx)\n",
    ")\n",
    "data_pred"
   ]
  },
  {
   "cell_type": "code",
   "execution_count": 6,
   "metadata": {},
   "outputs": [
    {
     "data": {
      "text/plain": [
       "<matplotlib.axes._subplots.AxesSubplot at 0x7fdd471d9810>"
      ]
     },
     "execution_count": 6,
     "metadata": {},
     "output_type": "execute_result"
    },
    {
     "data": {
      "image/png": "[encoded data removed]",
      "text/plain": [
       "<Figure size 432x288 with 1 Axes>"
      ]
     },
     "metadata": {
      "needs_background": "light"
     },
     "output_type": "display_data"
    }
   ],
   "source": [
    "plot_preds(data_pred, 'RUS', 'confirmed')"
   ]
  },
  {
   "cell_type": "code",
   "execution_count": 7,
   "metadata": {},
   "outputs": [
    {
     "data": {
      "text/plain": [
       "<matplotlib.axes._subplots.AxesSubplot at 0x7fdd469664d0>"
      ]
     },
     "execution_count": 7,
     "metadata": {},
     "output_type": "execute_result"
    },
    {
     "data": {
      "image/png": "[encoded data removed]",
      "text/plain": [
       "<Figure size 432x288 with 1 Axes>"
      ]
     },
     "metadata": {
      "needs_background": "light"
     },
     "output_type": "display_data"
    }
   ],
   "source": [
    "plot_preds(data_pred, 'RUS', 'deaths')"
   ]
  },
  {
   "cell_type": "markdown",
   "metadata": {},
   "source": [
    "# Обучение модели на всем датасете"
   ]
  },
  {
   "cell_type": "code",
   "execution_count": 8,
   "metadata": {},
   "outputs": [],
   "source": [
    "model_final=CovidModel()\n",
    "criterion = torch.nn.MSELoss()\n",
    "optimizer = torch.optim.Adam(model.parameters(), lr=LEARNING_RATE)\n",
    "\n",
    "runner = SupervisedRunner()\n",
    "runner.train(\n",
    "    model=model,\n",
    "    criterion=criterion,\n",
    "    optimizer=optimizer,\n",
    "    loaders={\n",
    "        \"train\": DataLoader(CovidDataset(X, y), batch_size=BATCH_SIZE, shuffle=False),\n",
    "        \"valid\": DataLoader(CovidDataset(X_valid, y_valid), batch_size=BATCH_SIZE, shuffle=False),\n",
    "    },\n",
    "    logdir=LOG_DIR,\n",
    "    num_epochs=NUM_EPOCHS,\n",
    ")"
   ]
  },
  {
   "cell_type": "markdown",
   "metadata": {},
   "source": [
    "# Предсказание"
   ]
  },
  {
   "cell_type": "code",
   "execution_count": 9,
   "metadata": {},
   "outputs": [
    {
     "data": {
      "text/html": [
       "<div>\n",
       "<style scoped>\n",
       "    .dataframe tbody tr th:only-of-type {\n",
       "        vertical-align: middle;\n",
       "    }\n",
       "\n",
       "    .dataframe tbody tr th {\n",
       "        vertical-align: top;\n",
       "    }\n",
       "\n",
       "    .dataframe thead th {\n",
       "        text-align: right;\n",
       "    }\n",
       "</style>\n",
       "<table border=\"1\" class=\"dataframe\">\n",
       "  <thead>\n",
       "    <tr style=\"text-align: right;\">\n",
       "      <th></th>\n",
       "      <th>date</th>\n",
       "      <th>country</th>\n",
       "      <th>prediction_confirmed</th>\n",
       "      <th>prediction_deaths</th>\n",
       "    </tr>\n",
       "  </thead>\n",
       "  <tbody>\n",
       "    <tr>\n",
       "      <th>0</th>\n",
       "      <td>2020-04-07</td>\n",
       "      <td>AFG</td>\n",
       "      <td>2.621419</td>\n",
       "      <td>1.100981</td>\n",
       "    </tr>\n",
       "    <tr>\n",
       "      <th>1</th>\n",
       "      <td>2020-04-07</td>\n",
       "      <td>ALB</td>\n",
       "      <td>2.642517</td>\n",
       "      <td>1.379383</td>\n",
       "    </tr>\n",
       "    <tr>\n",
       "      <th>2</th>\n",
       "      <td>2020-04-07</td>\n",
       "      <td>DZA</td>\n",
       "      <td>3.224384</td>\n",
       "      <td>2.290780</td>\n",
       "    </tr>\n",
       "    <tr>\n",
       "      <th>3</th>\n",
       "      <td>2020-04-07</td>\n",
       "      <td>AND</td>\n",
       "      <td>2.774875</td>\n",
       "      <td>1.374426</td>\n",
       "    </tr>\n",
       "    <tr>\n",
       "      <th>4</th>\n",
       "      <td>2020-04-07</td>\n",
       "      <td>AGO</td>\n",
       "      <td>1.320647</td>\n",
       "      <td>0.485427</td>\n",
       "    </tr>\n",
       "    <tr>\n",
       "      <th>...</th>\n",
       "      <td>...</td>\n",
       "      <td>...</td>\n",
       "      <td>...</td>\n",
       "      <td>...</td>\n",
       "    </tr>\n",
       "    <tr>\n",
       "      <th>164</th>\n",
       "      <td>2020-04-20</td>\n",
       "      <td>BFA</td>\n",
       "      <td>3.358101</td>\n",
       "      <td>1.853952</td>\n",
       "    </tr>\n",
       "    <tr>\n",
       "      <th>165</th>\n",
       "      <td>2020-04-20</td>\n",
       "      <td>URY</td>\n",
       "      <td>3.323090</td>\n",
       "      <td>1.582681</td>\n",
       "    </tr>\n",
       "    <tr>\n",
       "      <th>166</th>\n",
       "      <td>2020-04-20</td>\n",
       "      <td>UZB</td>\n",
       "      <td>3.326094</td>\n",
       "      <td>1.310988</td>\n",
       "    </tr>\n",
       "    <tr>\n",
       "      <th>167</th>\n",
       "      <td>2020-04-20</td>\n",
       "      <td>VEN</td>\n",
       "      <td>3.024307</td>\n",
       "      <td>1.456163</td>\n",
       "    </tr>\n",
       "    <tr>\n",
       "      <th>168</th>\n",
       "      <td>2020-04-20</td>\n",
       "      <td>ZMB</td>\n",
       "      <td>2.433263</td>\n",
       "      <td>0.780055</td>\n",
       "    </tr>\n",
       "  </tbody>\n",
       "</table>\n",
       "<p>2366 rows × 4 columns</p>\n",
       "</div>"
      ],
      "text/plain": [
       "          date country  prediction_confirmed  prediction_deaths\n",
       "0   2020-04-07     AFG              2.621419           1.100981\n",
       "1   2020-04-07     ALB              2.642517           1.379383\n",
       "2   2020-04-07     DZA              3.224384           2.290780\n",
       "3   2020-04-07     AND              2.774875           1.374426\n",
       "4   2020-04-07     AGO              1.320647           0.485427\n",
       "..         ...     ...                   ...                ...\n",
       "164 2020-04-20     BFA              3.358101           1.853952\n",
       "165 2020-04-20     URY              3.323090           1.582681\n",
       "166 2020-04-20     UZB              3.326094           1.310988\n",
       "167 2020-04-20     VEN              3.024307           1.456163\n",
       "168 2020-04-20     ZMB              2.433263           0.780055\n",
       "\n",
       "[2366 rows x 4 columns]"
      ]
     },
     "execution_count": 9,
     "metadata": {},
     "output_type": "execute_result"
    }
   ],
   "source": [
    "PREDICT_DAYS = 14\n",
    "\n",
    "def predict_next_day(current_data):\n",
    "    last_date = current_data['date'].max()\n",
    "    next_date = last_date + pd.to_timedelta(1, unit='d')\n",
    "\n",
    "    prev_data = current_data[current_data['date'] == last_date]\n",
    "    values = []\n",
    "    for country in prev_data['country']:\n",
    "        values.append([next_date, country, 0, 0])\n",
    "\n",
    "    next_data = pd.DataFrame(values, columns=current_data.columns)\n",
    "    combined_data = current_data.append(next_data)\n",
    "    next_X = get_X(combined_data)[combined_data['date'] == next_date]\n",
    "\n",
    "    next_data[['confirmed', 'deaths']] = runner.predict_loader(\n",
    "        model,\n",
    "        DataLoader(CovidDataset(next_X), batch_size=BATCH_SIZE, shuffle=False),\n",
    "    )\n",
    "\n",
    "    return next_data\n",
    "\n",
    "def predict(data, num_days=PREDICT_DAYS):\n",
    "    predict_data = pd.DataFrame(columns=data.columns)\n",
    "    for i in range(PREDICT_DAYS):\n",
    "        predict_data = predict_data.append(predict_next_day(data.append(predict_data)))\n",
    "\n",
    "    return predict_data.rename(columns={\n",
    "        'confirmed': 'prediction_confirmed',\n",
    "        'deaths': 'prediction_deaths',\n",
    "    })\n",
    "\n",
    "predicts = predict(data)\n",
    "predicts"
   ]
  },
  {
   "cell_type": "markdown",
   "metadata": {},
   "source": [
    "# Визуализация"
   ]
  },
  {
   "cell_type": "code",
   "execution_count": 10,
   "metadata": {},
   "outputs": [],
   "source": [
    "data_pred = data.append(predicts)"
   ]
  },
  {
   "cell_type": "code",
   "execution_count": 11,
   "metadata": {},
   "outputs": [
    {
     "data": {
      "text/plain": [
       "<matplotlib.axes._subplots.AxesSubplot at 0x7fdd4716b590>"
      ]
     },
     "execution_count": 11,
     "metadata": {},
     "output_type": "execute_result"
    },
    {
     "data": {
      "image/png": "[encoded data removed]",
      "text/plain": [
       "<Figure size 432x288 with 1 Axes>"
      ]
     },
     "metadata": {
      "needs_background": "light"
     },
     "output_type": "display_data"
    }
   ],
   "source": [
    "plot_preds(data_pred, 'RUS', 'confirmed')"
   ]
  },
  {
   "cell_type": "code",
   "execution_count": 12,
   "metadata": {},
   "outputs": [
    {
     "data": {
      "text/plain": [
       "<matplotlib.axes._subplots.AxesSubplot at 0x7fdd467b9dd0>"
      ]
     },
     "execution_count": 12,
     "metadata": {},
     "output_type": "execute_result"
    },
    {
     "data": {
      "image/png": "[encoded data removed]",
      "text/plain": [
       "<Figure size 432x288 with 1 Axes>"
      ]
     },
     "metadata": {
      "needs_background": "light"
     },
     "output_type": "display_data"
    }
   ],
   "source": [
    "plot_preds(data_pred, 'RUS', 'deaths')"
   ]
  },
  {
   "cell_type": "markdown",
   "metadata": {},
   "source": [
    "# Сохранение"
   ]
  },
  {
   "cell_type": "code",
   "execution_count": 13,
   "metadata": {},
   "outputs": [],
   "source": [
    "PREDICT_COLUMNS = ['prediction_confirmed', 'prediction_deaths']\n",
    "\n",
    "df = predicts.copy()\n",
    "df[PREDICT_COLUMNS] = (10 ** df[PREDICT_COLUMNS] - 1).astype(int)\n",
    "\n",
    "df.to_csv('data/submission.csv', index=False)"
   ]
  }
 ],
 "metadata": {
  "kernelspec": {
   "display_name": "Python 3",
   "language": "python",
   "name": "python3"
  },
  "language_info": {
   "codemirror_mode": {
    "name": "ipython",
    "version": 3
   },
   "file_extension": ".py",
   "mimetype": "text/x-python",
   "name": "python",
   "nbconvert_exporter": "python",
   "pygments_lexer": "ipython3",
   "version": "3.7.7"
  }
 },
 "nbformat": 4,
 "nbformat_minor": 4
}
