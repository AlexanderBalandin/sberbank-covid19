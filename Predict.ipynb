{
 "cells": [
  {
   "cell_type": "code",
   "execution_count": 1,
   "metadata": {},
   "outputs": [
    {
     "name": "stderr",
     "output_type": "stream",
     "text": [
      "/home/tyz910/anaconda3/envs/sberbank-covid19/lib/python3.7/site-packages/tqdm/std.py:666: FutureWarning: The Panel class is removed from pandas. Accessing it from the top-level namespace will also be removed in the next version\n",
      "  from pandas import Panel\n",
      "alchemy not available, to install alchemy, run `pip install alchemy-catalyst`.\n",
      "alchemy not available, to install alchemy, run `pip install alchemy-catalyst`.\n"
     ]
    },
    {
     "data": {
      "text/html": [
       "<div>\n",
       "<style scoped>\n",
       "    .dataframe tbody tr th:only-of-type {\n",
       "        vertical-align: middle;\n",
       "    }\n",
       "\n",
       "    .dataframe tbody tr th {\n",
       "        vertical-align: top;\n",
       "    }\n",
       "\n",
       "    .dataframe thead th {\n",
       "        text-align: right;\n",
       "    }\n",
       "</style>\n",
       "<table border=\"1\" class=\"dataframe\">\n",
       "  <thead>\n",
       "    <tr style=\"text-align: right;\">\n",
       "      <th></th>\n",
       "      <th>date</th>\n",
       "      <th>country</th>\n",
       "      <th>confirmed</th>\n",
       "      <th>deaths</th>\n",
       "    </tr>\n",
       "  </thead>\n",
       "  <tbody>\n",
       "    <tr>\n",
       "      <th>0</th>\n",
       "      <td>2020-01-22</td>\n",
       "      <td>CN</td>\n",
       "      <td>2.739572</td>\n",
       "      <td>1.255273</td>\n",
       "    </tr>\n",
       "    <tr>\n",
       "      <th>1</th>\n",
       "      <td>2020-01-22</td>\n",
       "      <td>TW</td>\n",
       "      <td>0.301030</td>\n",
       "      <td>0.000000</td>\n",
       "    </tr>\n",
       "    <tr>\n",
       "      <th>2</th>\n",
       "      <td>2020-01-22</td>\n",
       "      <td>JP</td>\n",
       "      <td>0.477121</td>\n",
       "      <td>0.000000</td>\n",
       "    </tr>\n",
       "    <tr>\n",
       "      <th>3</th>\n",
       "      <td>2020-01-22</td>\n",
       "      <td>KR</td>\n",
       "      <td>0.301030</td>\n",
       "      <td>0.000000</td>\n",
       "    </tr>\n",
       "    <tr>\n",
       "      <th>4</th>\n",
       "      <td>2020-01-22</td>\n",
       "      <td>TH</td>\n",
       "      <td>0.477121</td>\n",
       "      <td>0.000000</td>\n",
       "    </tr>\n",
       "  </tbody>\n",
       "</table>\n",
       "</div>"
      ],
      "text/plain": [
       "        date country  confirmed    deaths\n",
       "0 2020-01-22      CN   2.739572  1.255273\n",
       "1 2020-01-22      TW   0.301030  0.000000\n",
       "2 2020-01-22      JP   0.477121  0.000000\n",
       "3 2020-01-22      KR   0.301030  0.000000\n",
       "4 2020-01-22      TH   0.477121  0.000000"
      ]
     },
     "execution_count": 1,
     "metadata": {},
     "output_type": "execute_result"
    }
   ],
   "source": [
    "import torch\n",
    "import pandas as pd\n",
    "import numpy as np\n",
    "\n",
    "from torch.utils.data import DataLoader\n",
    "from catalyst.dl import SupervisedRunner\n",
    "from util.data import read_data, days_idx\n",
    "from util.model import CovidDataset\n",
    "from util.features import *\n",
    "\n",
    "countries, data = read_data(\n",
    "    countries_path='data/countries.csv',\n",
    "    confirmed_path='data/time_series_covid19_confirmed_global.csv',\n",
    "    deaths_path='data/time_series_covid19_deaths_global.csv',\n",
    ")\n",
    "\n",
    "data['confirmed'] = np.log10(data['confirmed'] + 1)\n",
    "data['deaths'] = np.log10(data['deaths'] + 1)\n",
    "data.head()"
   ]
  },
  {
   "cell_type": "markdown",
   "metadata": {},
   "source": [
    "# Отделяем данные для валидации"
   ]
  },
  {
   "cell_type": "code",
   "execution_count": 2,
   "metadata": {},
   "outputs": [
    {
     "data": {
      "text/plain": [
       "(4767, 845)"
      ]
     },
     "execution_count": 2,
     "metadata": {},
     "output_type": "execute_result"
    }
   ],
   "source": [
    "VALID_DAYS = 5\n",
    "train_idx = days_idx(data, VALID_DAYS, after=False)\n",
    "valid_idx = days_idx(data, VALID_DAYS, after=True)\n",
    "\n",
    "len(train_idx), len(valid_idx)"
   ]
  },
  {
   "cell_type": "markdown",
   "metadata": {},
   "source": [
    "# Генерация фичей"
   ]
  },
  {
   "cell_type": "code",
   "execution_count": 3,
   "metadata": {},
   "outputs": [
    {
     "data": {
      "text/html": [
       "<div>\n",
       "<style scoped>\n",
       "    .dataframe tbody tr th:only-of-type {\n",
       "        vertical-align: middle;\n",
       "    }\n",
       "\n",
       "    .dataframe tbody tr th {\n",
       "        vertical-align: top;\n",
       "    }\n",
       "\n",
       "    .dataframe thead th {\n",
       "        text-align: right;\n",
       "    }\n",
       "</style>\n",
       "<table border=\"1\" class=\"dataframe\">\n",
       "  <thead>\n",
       "    <tr style=\"text-align: right;\">\n",
       "      <th></th>\n",
       "      <th>confirmed_prev_1</th>\n",
       "      <th>confirmed_prev_2</th>\n",
       "      <th>confirmed_prev_3</th>\n",
       "      <th>confirmed_prev_4</th>\n",
       "      <th>confirmed_prev_5</th>\n",
       "      <th>deaths_prev_1</th>\n",
       "      <th>deaths_prev_2</th>\n",
       "      <th>deaths_prev_3</th>\n",
       "      <th>deaths_prev_4</th>\n",
       "      <th>deaths_prev_5</th>\n",
       "    </tr>\n",
       "  </thead>\n",
       "  <tbody>\n",
       "    <tr>\n",
       "      <th>4762</th>\n",
       "      <td>2.318063</td>\n",
       "      <td>2.257679</td>\n",
       "      <td>2.184691</td>\n",
       "      <td>2.167317</td>\n",
       "      <td>2.060698</td>\n",
       "      <td>1.079181</td>\n",
       "      <td>1.00000</td>\n",
       "      <td>0.90309</td>\n",
       "      <td>0.69897</td>\n",
       "      <td>0.69897</td>\n",
       "    </tr>\n",
       "    <tr>\n",
       "      <th>4763</th>\n",
       "      <td>2.439333</td>\n",
       "      <td>2.378398</td>\n",
       "      <td>2.338456</td>\n",
       "      <td>2.278754</td>\n",
       "      <td>2.212188</td>\n",
       "      <td>0.000000</td>\n",
       "      <td>0.00000</td>\n",
       "      <td>0.00000</td>\n",
       "      <td>0.00000</td>\n",
       "      <td>0.00000</td>\n",
       "    </tr>\n",
       "    <tr>\n",
       "      <th>4764</th>\n",
       "      <td>2.021189</td>\n",
       "      <td>1.949390</td>\n",
       "      <td>1.880814</td>\n",
       "      <td>1.785330</td>\n",
       "      <td>1.707570</td>\n",
       "      <td>0.477121</td>\n",
       "      <td>0.30103</td>\n",
       "      <td>0.00000</td>\n",
       "      <td>0.00000</td>\n",
       "      <td>0.00000</td>\n",
       "    </tr>\n",
       "    <tr>\n",
       "      <th>4765</th>\n",
       "      <td>2.079181</td>\n",
       "      <td>2.033424</td>\n",
       "      <td>2.033424</td>\n",
       "      <td>1.963788</td>\n",
       "      <td>1.929419</td>\n",
       "      <td>0.477121</td>\n",
       "      <td>0.30103</td>\n",
       "      <td>0.00000</td>\n",
       "      <td>0.00000</td>\n",
       "      <td>0.00000</td>\n",
       "    </tr>\n",
       "    <tr>\n",
       "      <th>4766</th>\n",
       "      <td>1.462398</td>\n",
       "      <td>1.361728</td>\n",
       "      <td>1.230449</td>\n",
       "      <td>1.113943</td>\n",
       "      <td>0.602060</td>\n",
       "      <td>0.000000</td>\n",
       "      <td>0.00000</td>\n",
       "      <td>0.00000</td>\n",
       "      <td>0.00000</td>\n",
       "      <td>0.00000</td>\n",
       "    </tr>\n",
       "  </tbody>\n",
       "</table>\n",
       "</div>"
      ],
      "text/plain": [
       "      confirmed_prev_1  confirmed_prev_2  confirmed_prev_3  confirmed_prev_4  \\\n",
       "4762          2.318063          2.257679          2.184691          2.167317   \n",
       "4763          2.439333          2.378398          2.338456          2.278754   \n",
       "4764          2.021189          1.949390          1.880814          1.785330   \n",
       "4765          2.079181          2.033424          2.033424          1.963788   \n",
       "4766          1.462398          1.361728          1.230449          1.113943   \n",
       "\n",
       "      confirmed_prev_5  deaths_prev_1  deaths_prev_2  deaths_prev_3  \\\n",
       "4762          2.060698       1.079181        1.00000        0.90309   \n",
       "4763          2.212188       0.000000        0.00000        0.00000   \n",
       "4764          1.707570       0.477121        0.30103        0.00000   \n",
       "4765          1.929419       0.477121        0.30103        0.00000   \n",
       "4766          0.602060       0.000000        0.00000        0.00000   \n",
       "\n",
       "      deaths_prev_4  deaths_prev_5  \n",
       "4762        0.69897        0.69897  \n",
       "4763        0.00000        0.00000  \n",
       "4764        0.00000        0.00000  \n",
       "4765        0.00000        0.00000  \n",
       "4766        0.00000        0.00000  "
      ]
     },
     "execution_count": 3,
     "metadata": {},
     "output_type": "execute_result"
    }
   ],
   "source": [
    "def get_y(df):\n",
    "    return df[['confirmed', 'deaths']]\n",
    "\n",
    "def get_X(df):\n",
    "    X = df.copy()\n",
    "\n",
    "    add_prev_values(X, \"confirmed\", days=5)\n",
    "    add_prev_values(X, \"deaths\", days=5)\n",
    "\n",
    "    return X.drop(columns=['date', 'country', 'confirmed', 'deaths'])\n",
    "\n",
    "X, y = get_X(data), get_y(data)\n",
    "X_train, y_train = X.loc[train_idx], y.loc[train_idx]\n",
    "X_valid, y_valid = X.loc[valid_idx], y.loc[valid_idx]\n",
    "\n",
    "X_train.tail()"
   ]
  },
  {
   "cell_type": "markdown",
   "metadata": {},
   "source": [
    "# Обучение модели с валидацией"
   ]
  },
  {
   "cell_type": "code",
   "execution_count": 4,
   "metadata": {},
   "outputs": [],
   "source": [
    "LOG_DIR = \"./logs\"\n",
    "NUM_EPOCHS = 200\n",
    "BATCH_SIZE = 2048\n",
    "NUM_FEATURES = len(X_train.columns)\n",
    "NUM_TARGETS = len(y_train.columns)\n",
    "\n",
    "\n",
    "class CovidModel(torch.nn.Module):\n",
    "    def __init__(self):\n",
    "        super(CovidModel, self).__init__()\n",
    "        self.linear = torch.nn.Linear(NUM_FEATURES, NUM_TARGETS)\n",
    "\n",
    "    def forward(self, X):\n",
    "        y = self.linear(X)        \n",
    "\n",
    "        return y\n",
    "\n",
    "\n",
    "model=CovidModel()\n",
    "criterion = torch.nn.MSELoss()\n",
    "optimizer = torch.optim.Adam(model.parameters(), lr=0.1)\n",
    "\n",
    "runner = SupervisedRunner()\n",
    "runner.train(\n",
    "    model=model,\n",
    "    criterion=criterion,\n",
    "    optimizer=optimizer,\n",
    "    loaders={\n",
    "        \"train\": DataLoader(CovidDataset(X_train, y_train), batch_size=BATCH_SIZE, shuffle=True),\n",
    "        \"valid\": DataLoader(CovidDataset(X_valid, y_valid), batch_size=BATCH_SIZE, shuffle=False),\n",
    "    },\n",
    "    logdir=LOG_DIR,\n",
    "    num_epochs=NUM_EPOCHS,\n",
    ")"
   ]
  },
  {
   "cell_type": "markdown",
   "metadata": {},
   "source": [
    "# Визуализация"
   ]
  },
  {
   "cell_type": "code",
   "execution_count": 5,
   "metadata": {},
   "outputs": [
    {
     "data": {
      "text/html": [
       "<div>\n",
       "<style scoped>\n",
       "    .dataframe tbody tr th:only-of-type {\n",
       "        vertical-align: middle;\n",
       "    }\n",
       "\n",
       "    .dataframe tbody tr th {\n",
       "        vertical-align: top;\n",
       "    }\n",
       "\n",
       "    .dataframe thead th {\n",
       "        text-align: right;\n",
       "    }\n",
       "</style>\n",
       "<table border=\"1\" class=\"dataframe\">\n",
       "  <thead>\n",
       "    <tr style=\"text-align: right;\">\n",
       "      <th></th>\n",
       "      <th>date</th>\n",
       "      <th>country</th>\n",
       "      <th>confirmed</th>\n",
       "      <th>deaths</th>\n",
       "      <th>prediction_confirmed</th>\n",
       "      <th>prediction_deaths</th>\n",
       "    </tr>\n",
       "  </thead>\n",
       "  <tbody>\n",
       "    <tr>\n",
       "      <th>0</th>\n",
       "      <td>2020-01-22</td>\n",
       "      <td>CN</td>\n",
       "      <td>2.739572</td>\n",
       "      <td>1.255273</td>\n",
       "      <td>NaN</td>\n",
       "      <td>NaN</td>\n",
       "    </tr>\n",
       "    <tr>\n",
       "      <th>1</th>\n",
       "      <td>2020-01-22</td>\n",
       "      <td>TW</td>\n",
       "      <td>0.301030</td>\n",
       "      <td>0.000000</td>\n",
       "      <td>NaN</td>\n",
       "      <td>NaN</td>\n",
       "    </tr>\n",
       "    <tr>\n",
       "      <th>2</th>\n",
       "      <td>2020-01-22</td>\n",
       "      <td>JP</td>\n",
       "      <td>0.477121</td>\n",
       "      <td>0.000000</td>\n",
       "      <td>NaN</td>\n",
       "      <td>NaN</td>\n",
       "    </tr>\n",
       "    <tr>\n",
       "      <th>3</th>\n",
       "      <td>2020-01-22</td>\n",
       "      <td>KR</td>\n",
       "      <td>0.301030</td>\n",
       "      <td>0.000000</td>\n",
       "      <td>NaN</td>\n",
       "      <td>NaN</td>\n",
       "    </tr>\n",
       "    <tr>\n",
       "      <th>4</th>\n",
       "      <td>2020-01-22</td>\n",
       "      <td>TH</td>\n",
       "      <td>0.477121</td>\n",
       "      <td>0.000000</td>\n",
       "      <td>NaN</td>\n",
       "      <td>NaN</td>\n",
       "    </tr>\n",
       "    <tr>\n",
       "      <th>...</th>\n",
       "      <td>...</td>\n",
       "      <td>...</td>\n",
       "      <td>...</td>\n",
       "      <td>...</td>\n",
       "      <td>...</td>\n",
       "      <td>...</td>\n",
       "    </tr>\n",
       "    <tr>\n",
       "      <th>5607</th>\n",
       "      <td>2020-04-03</td>\n",
       "      <td>BF</td>\n",
       "      <td>2.481443</td>\n",
       "      <td>1.230449</td>\n",
       "      <td>2.521736</td>\n",
       "      <td>1.251106</td>\n",
       "    </tr>\n",
       "    <tr>\n",
       "      <th>5608</th>\n",
       "      <td>2020-04-03</td>\n",
       "      <td>UY</td>\n",
       "      <td>2.568202</td>\n",
       "      <td>0.698970</td>\n",
       "      <td>2.621903</td>\n",
       "      <td>0.731838</td>\n",
       "    </tr>\n",
       "    <tr>\n",
       "      <th>5609</th>\n",
       "      <td>2020-04-03</td>\n",
       "      <td>UZ</td>\n",
       "      <td>2.357935</td>\n",
       "      <td>0.477121</td>\n",
       "      <td>2.354141</td>\n",
       "      <td>0.498064</td>\n",
       "    </tr>\n",
       "    <tr>\n",
       "      <th>5610</th>\n",
       "      <td>2020-04-03</td>\n",
       "      <td>VE</td>\n",
       "      <td>2.187521</td>\n",
       "      <td>0.903090</td>\n",
       "      <td>2.236746</td>\n",
       "      <td>0.793782</td>\n",
       "    </tr>\n",
       "    <tr>\n",
       "      <th>5611</th>\n",
       "      <td>2020-04-03</td>\n",
       "      <td>ZM</td>\n",
       "      <td>1.602060</td>\n",
       "      <td>0.301030</td>\n",
       "      <td>1.688027</td>\n",
       "      <td>0.300538</td>\n",
       "    </tr>\n",
       "  </tbody>\n",
       "</table>\n",
       "<p>5612 rows × 6 columns</p>\n",
       "</div>"
      ],
      "text/plain": [
       "           date country  confirmed    deaths  prediction_confirmed  \\\n",
       "0    2020-01-22      CN   2.739572  1.255273                   NaN   \n",
       "1    2020-01-22      TW   0.301030  0.000000                   NaN   \n",
       "2    2020-01-22      JP   0.477121  0.000000                   NaN   \n",
       "3    2020-01-22      KR   0.301030  0.000000                   NaN   \n",
       "4    2020-01-22      TH   0.477121  0.000000                   NaN   \n",
       "...         ...     ...        ...       ...                   ...   \n",
       "5607 2020-04-03      BF   2.481443  1.230449              2.521736   \n",
       "5608 2020-04-03      UY   2.568202  0.698970              2.621903   \n",
       "5609 2020-04-03      UZ   2.357935  0.477121              2.354141   \n",
       "5610 2020-04-03      VE   2.187521  0.903090              2.236746   \n",
       "5611 2020-04-03      ZM   1.602060  0.301030              1.688027   \n",
       "\n",
       "      prediction_deaths  \n",
       "0                   NaN  \n",
       "1                   NaN  \n",
       "2                   NaN  \n",
       "3                   NaN  \n",
       "4                   NaN  \n",
       "...                 ...  \n",
       "5607           1.251106  \n",
       "5608           0.731838  \n",
       "5609           0.498064  \n",
       "5610           0.793782  \n",
       "5611           0.300538  \n",
       "\n",
       "[5612 rows x 6 columns]"
      ]
     },
     "execution_count": 5,
     "metadata": {},
     "output_type": "execute_result"
    }
   ],
   "source": [
    "def plot_preds(data_pred, country, column='confirmed', num_days=30):  \n",
    "    data_country = data_pred[data_pred['country'] == country].copy()\n",
    "\n",
    "    val_columns = ['confirmed', 'deaths', 'prediction_confirmed', 'prediction_deaths']\n",
    "    data_country[val_columns] = 10 ** data_country[val_columns] - 1\n",
    "    \n",
    "    return data_country.reset_index().tail(num_days)[[column, 'prediction_' + column]].plot()\n",
    "\n",
    "\n",
    "predictions = runner.predict_loader(\n",
    "    model,\n",
    "    DataLoader(CovidDataset(X_valid, y_valid), batch_size=BATCH_SIZE, shuffle=False),\n",
    ")\n",
    "\n",
    "data_pred = data.join(\n",
    "    pd.DataFrame(predictions, columns=['prediction_confirmed', 'prediction_deaths'], index=valid_idx)\n",
    ")\n",
    "data_pred"
   ]
  },
  {
   "cell_type": "code",
   "execution_count": 6,
   "metadata": {},
   "outputs": [
    {
     "data": {
      "text/plain": [
       "<matplotlib.axes._subplots.AxesSubplot at 0x7fc5ad9d7e50>"
      ]
     },
     "execution_count": 6,
     "metadata": {},
     "output_type": "execute_result"
    },
    {
     "data": {
      "image/png": "[encoded data removed]",
      "text/plain": [
       "<Figure size 432x288 with 1 Axes>"
      ]
     },
     "metadata": {
      "needs_background": "light"
     },
     "output_type": "display_data"
    }
   ],
   "source": [
    "plot_preds(data_pred, 'RU', 'confirmed')"
   ]
  },
  {
   "cell_type": "code",
   "execution_count": 7,
   "metadata": {},
   "outputs": [
    {
     "data": {
      "text/plain": [
       "<matplotlib.axes._subplots.AxesSubplot at 0x7fc5ac219210>"
      ]
     },
     "execution_count": 7,
     "metadata": {},
     "output_type": "execute_result"
    },
    {
     "data": {
      "image/png": "[encoded data removed]",
      "text/plain": [
       "<Figure size 432x288 with 1 Axes>"
      ]
     },
     "metadata": {
      "needs_background": "light"
     },
     "output_type": "display_data"
    }
   ],
   "source": [
    "plot_preds(data_pred, 'RU', 'deaths')"
   ]
  },
  {
   "cell_type": "markdown",
   "metadata": {},
   "source": [
    "# Обучение модели на всем датасете"
   ]
  },
  {
   "cell_type": "code",
   "execution_count": 8,
   "metadata": {},
   "outputs": [],
   "source": [
    "model_final=CovidModel()\n",
    "criterion = torch.nn.MSELoss()\n",
    "optimizer = torch.optim.Adam(model.parameters(), lr=0.1)\n",
    "\n",
    "runner = SupervisedRunner()\n",
    "runner.train(\n",
    "    model=model,\n",
    "    criterion=criterion,\n",
    "    optimizer=optimizer,\n",
    "    loaders={\n",
    "        \"train\": DataLoader(CovidDataset(X, y), batch_size=BATCH_SIZE, shuffle=True),\n",
    "    },\n",
    "    logdir=LOG_DIR,\n",
    "    num_epochs=NUM_EPOCHS,\n",
    ")"
   ]
  },
  {
   "cell_type": "markdown",
   "metadata": {},
   "source": [
    "# Предсказание"
   ]
  },
  {
   "cell_type": "code",
   "execution_count": 9,
   "metadata": {},
   "outputs": [
    {
     "data": {
      "text/html": [
       "<div>\n",
       "<style scoped>\n",
       "    .dataframe tbody tr th:only-of-type {\n",
       "        vertical-align: middle;\n",
       "    }\n",
       "\n",
       "    .dataframe tbody tr th {\n",
       "        vertical-align: top;\n",
       "    }\n",
       "\n",
       "    .dataframe thead th {\n",
       "        text-align: right;\n",
       "    }\n",
       "</style>\n",
       "<table border=\"1\" class=\"dataframe\">\n",
       "  <thead>\n",
       "    <tr style=\"text-align: right;\">\n",
       "      <th></th>\n",
       "      <th>date</th>\n",
       "      <th>country</th>\n",
       "      <th>prediction_confirmed</th>\n",
       "      <th>prediction_deaths</th>\n",
       "    </tr>\n",
       "  </thead>\n",
       "  <tbody>\n",
       "    <tr>\n",
       "      <th>0</th>\n",
       "      <td>2020-04-04</td>\n",
       "      <td>AF</td>\n",
       "      <td>2.515816</td>\n",
       "      <td>0.889698</td>\n",
       "    </tr>\n",
       "    <tr>\n",
       "      <th>1</th>\n",
       "      <td>2020-04-04</td>\n",
       "      <td>AL</td>\n",
       "      <td>2.542845</td>\n",
       "      <td>1.289851</td>\n",
       "    </tr>\n",
       "    <tr>\n",
       "      <th>2</th>\n",
       "      <td>2020-04-04</td>\n",
       "      <td>DZ</td>\n",
       "      <td>3.151291</td>\n",
       "      <td>2.087609</td>\n",
       "    </tr>\n",
       "    <tr>\n",
       "      <th>3</th>\n",
       "      <td>2020-04-04</td>\n",
       "      <td>AD</td>\n",
       "      <td>2.697757</td>\n",
       "      <td>1.279554</td>\n",
       "    </tr>\n",
       "    <tr>\n",
       "      <th>4</th>\n",
       "      <td>2020-04-04</td>\n",
       "      <td>AO</td>\n",
       "      <td>1.031170</td>\n",
       "      <td>0.476842</td>\n",
       "    </tr>\n",
       "    <tr>\n",
       "      <th>...</th>\n",
       "      <td>...</td>\n",
       "      <td>...</td>\n",
       "      <td>...</td>\n",
       "      <td>...</td>\n",
       "    </tr>\n",
       "    <tr>\n",
       "      <th>164</th>\n",
       "      <td>2020-04-17</td>\n",
       "      <td>BF</td>\n",
       "      <td>3.248670</td>\n",
       "      <td>1.718352</td>\n",
       "    </tr>\n",
       "    <tr>\n",
       "      <th>165</th>\n",
       "      <td>2020-04-17</td>\n",
       "      <td>UY</td>\n",
       "      <td>3.271667</td>\n",
       "      <td>1.478873</td>\n",
       "    </tr>\n",
       "    <tr>\n",
       "      <th>166</th>\n",
       "      <td>2020-04-17</td>\n",
       "      <td>UZ</td>\n",
       "      <td>3.011065</td>\n",
       "      <td>1.112458</td>\n",
       "    </tr>\n",
       "    <tr>\n",
       "      <th>167</th>\n",
       "      <td>2020-04-17</td>\n",
       "      <td>VE</td>\n",
       "      <td>3.057297</td>\n",
       "      <td>1.507192</td>\n",
       "    </tr>\n",
       "    <tr>\n",
       "      <th>168</th>\n",
       "      <td>2020-04-17</td>\n",
       "      <td>ZM</td>\n",
       "      <td>2.529178</td>\n",
       "      <td>0.891720</td>\n",
       "    </tr>\n",
       "  </tbody>\n",
       "</table>\n",
       "<p>2366 rows × 4 columns</p>\n",
       "</div>"
      ],
      "text/plain": [
       "          date country  prediction_confirmed  prediction_deaths\n",
       "0   2020-04-04      AF              2.515816           0.889698\n",
       "1   2020-04-04      AL              2.542845           1.289851\n",
       "2   2020-04-04      DZ              3.151291           2.087609\n",
       "3   2020-04-04      AD              2.697757           1.279554\n",
       "4   2020-04-04      AO              1.031170           0.476842\n",
       "..         ...     ...                   ...                ...\n",
       "164 2020-04-17      BF              3.248670           1.718352\n",
       "165 2020-04-17      UY              3.271667           1.478873\n",
       "166 2020-04-17      UZ              3.011065           1.112458\n",
       "167 2020-04-17      VE              3.057297           1.507192\n",
       "168 2020-04-17      ZM              2.529178           0.891720\n",
       "\n",
       "[2366 rows x 4 columns]"
      ]
     },
     "execution_count": 9,
     "metadata": {},
     "output_type": "execute_result"
    }
   ],
   "source": [
    "PREDICT_DAYS = 14\n",
    "\n",
    "def predict_next_day(current_data):\n",
    "    last_date = current_data['date'].max()\n",
    "    next_date = last_date + pd.to_timedelta(1, unit='d')\n",
    "\n",
    "    prev_data = current_data[current_data['date'] == last_date]\n",
    "    values = []\n",
    "    for country in prev_data['country']:\n",
    "        values.append([next_date, country, 0, 0])\n",
    "\n",
    "    next_data = pd.DataFrame(values, columns=current_data.columns)\n",
    "    combined_data = current_data.append(next_data)\n",
    "    next_X = get_X(combined_data)[combined_data['date'] == next_date]\n",
    "\n",
    "    next_data[['confirmed', 'deaths']] = runner.predict_loader(\n",
    "        model,\n",
    "        DataLoader(CovidDataset(next_X), batch_size=BATCH_SIZE, shuffle=False),\n",
    "    )\n",
    "\n",
    "    return next_data\n",
    "\n",
    "def predict(data, num_days=PREDICT_DAYS):\n",
    "    predict_data = pd.DataFrame(columns=data.columns)\n",
    "    for i in range(PREDICT_DAYS):\n",
    "        predict_data = predict_data.append(predict_next_day(data.append(predict_data)))\n",
    "\n",
    "    return predict_data.rename(columns={\n",
    "        'confirmed': 'prediction_confirmed',\n",
    "        'deaths': 'prediction_deaths',\n",
    "    })\n",
    "\n",
    "predicts = predict(data)\n",
    "predicts"
   ]
  },
  {
   "cell_type": "markdown",
   "metadata": {},
   "source": [
    "# Визуализация"
   ]
  },
  {
   "cell_type": "code",
   "execution_count": 10,
   "metadata": {},
   "outputs": [],
   "source": [
    "data_pred = data.append(predicts)"
   ]
  },
  {
   "cell_type": "code",
   "execution_count": 11,
   "metadata": {},
   "outputs": [
    {
     "data": {
      "text/plain": [
       "<matplotlib.axes._subplots.AxesSubplot at 0x7fc5ac1b0a10>"
      ]
     },
     "execution_count": 11,
     "metadata": {},
     "output_type": "execute_result"
    },
    {
     "data": {
      "image/png": "[encoded data removed]",
      "text/plain": [
       "<Figure size 432x288 with 1 Axes>"
      ]
     },
     "metadata": {
      "needs_background": "light"
     },
     "output_type": "display_data"
    }
   ],
   "source": [
    "plot_preds(data_pred, 'RU', 'confirmed')"
   ]
  },
  {
   "cell_type": "code",
   "execution_count": 12,
   "metadata": {},
   "outputs": [
    {
     "data": {
      "text/plain": [
       "<matplotlib.axes._subplots.AxesSubplot at 0x7fc5ac181f10>"
      ]
     },
     "execution_count": 12,
     "metadata": {},
     "output_type": "execute_result"
    },
    {
     "data": {
      "image/png": "[encoded data removed]",
      "text/plain": [
       "<Figure size 432x288 with 1 Axes>"
      ]
     },
     "metadata": {
      "needs_background": "light"
     },
     "output_type": "display_data"
    }
   ],
   "source": [
    "plot_preds(data_pred, 'RU', 'deaths')"
   ]
  },
  {
   "cell_type": "markdown",
   "metadata": {},
   "source": [
    "# Сохранение"
   ]
  },
  {
   "cell_type": "code",
   "execution_count": 13,
   "metadata": {},
   "outputs": [],
   "source": [
    "PREDICT_COLUMNS = ['prediction_confirmed', 'prediction_deaths']\n",
    "\n",
    "df = predicts.copy()\n",
    "df[PREDICT_COLUMNS] = (10 ** df[PREDICT_COLUMNS] - 1).astype(int)\n",
    "\n",
    "df.to_csv('data/submission.csv', index=False)"
   ]
  }
 ],
 "metadata": {
  "kernelspec": {
   "display_name": "Python 3",
   "language": "python",
   "name": "python3"
  },
  "language_info": {
   "codemirror_mode": {
    "name": "ipython",
    "version": 3
   },
   "file_extension": ".py",
   "mimetype": "text/x-python",
   "name": "python",
   "nbconvert_exporter": "python",
   "pygments_lexer": "ipython3",
   "version": "3.7.7"
  }
 },
 "nbformat": 4,
 "nbformat_minor": 4
}
